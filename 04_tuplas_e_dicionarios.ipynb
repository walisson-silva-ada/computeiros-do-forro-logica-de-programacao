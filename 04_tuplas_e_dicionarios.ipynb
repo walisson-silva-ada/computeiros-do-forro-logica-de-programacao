{
 "cells": [
  {
   "cell_type": "markdown",
   "metadata": {},
   "source": [
    "# Exercícios\n",
    "\n",
    "#### 04. Tuplas e Dicionários\n",
    "\n",
    "---\n",
    "\n",
    "<img src=\"https://selecao.letscode.com.br/favicon.png\" width=\"40px\" style=\"position: absolute; top: 0px; right: 40px; border-radius: 5px;\" />"
   ]
  },
  {
   "cell_type": "markdown",
   "metadata": {},
   "source": [
    "### Para entregar! 🔥"
   ]
  },
  {
   "cell_type": "markdown",
   "metadata": {},
   "source": [
    "**01. Faça um programa que receba uma string e conte quantas vezes cada letra apareceu nela. Seu programa deverá guardar os dados em um dicionário no qual as chaves são as letras da string e os valores são a contagem de quantas vezes essa letra aparece na string.**"
   ]
  },
  {
   "cell_type": "code",
   "execution_count": null,
   "metadata": {},
   "outputs": [],
   "source": []
  },
  {
   "cell_type": "markdown",
   "metadata": {},
   "source": [
    "**02. Faça um programa que disponha de um menu, o qual solicita uma resposta (número) do usuário, que varia entre 1 e 4.**\n",
    "\n",
    "- Ao digitar 1, o programa deve possibilitar ao usuário cadastrar uma nova pessoa, solicitando nome, CPF, e-mail e idade dela. Os dados de cada pessoa cadastrada devem ser guardados em um dicionário cuja chave é o CPF da pessoa, e o valor é outro dicionário com nome, idade e e-mail.\n",
    "- Ao digitar 2, o programa deve imprimir os usuários cadastrados.\n",
    "- Ao digitar 3, o usuário poderá pesquisar por uma pessoa cadastrada, informando o seu CPF.\n",
    "- Ao digitar 4, o programa deve encerrar."
   ]
  },
  {
   "cell_type": "code",
   "execution_count": null,
   "metadata": {},
   "outputs": [],
   "source": []
  },
  {
   "cell_type": "markdown",
   "metadata": {},
   "source": [
    "### Tradutor de Papai Noel 🎅\n",
    "\n",
    "Nicolau já está bastante cansado e sua memória não é mais a mesma. Você, como programador, deverá auxiliar o Papai Noel a gritar a frase \"Feliz Natal\" no idioma correto de cada país de que trenó está sobrevoando.\n",
    "\n",
    "Como você é muito esperto(a), você já criou um pequeno app no seu celular  que irá lhe informar a frase no idioma correto dado o nome do país. Como o trenó é moderno, ele exibe no painel de navegação o nome do país atual.\n",
    "\n",
    "<img src=\"https://www.urionlinejudge.com.br/gallery/images/problems/UOJ_1763.gif\" style=\"display: block; margin: 1rem auto\" />\n",
    "\n",
    "Os dados inseridos no seu app foram:\n",
    "\n",
    "```\n",
    "brasil              Feliz Natal!\n",
    "alemanha            Frohliche Weihnachten!\n",
    "austria             Frohe Weihnacht!\n",
    "coreia              Chuk Sung Tan!\n",
    "espanha             Feliz Navidad!\n",
    "grecia              Kala Christougena!\n",
    "estados-unidos      Merry Christmas!\n",
    "inglaterra          Merry Christmas!\n",
    "australia           Merry Christmas!\n",
    "portugal            Feliz Natal!\n",
    "suecia              God Jul!\n",
    "turquia             Mutlu Noeller\n",
    "argentina           Feliz Navidad!\n",
    "chile               Feliz Navidad!\n",
    "mexico              Feliz Navidad!\n",
    "antardida           Merry Christmas!\n",
    "canada              Merry Christmas!\n",
    "irlanda             Nollaig Shona Dhuit!\n",
    "belgica             Zalig Kerstfeest!\n",
    "italia              Buon Natale!\n",
    "libia               Buon Natale!\n",
    "siria               Milad Mubarak!\n",
    "marrocos            Milad Mubarak!\n",
    "japao               Merii Kurisumasu!\n",
    "```\n",
    "\n",
    "Para não correr o risco de infomar o nome errado você decidiu testar o aplicativo mais algumas vezes. Você irá testar o seu aplicativo com diversos nomes de paises, simulando os dados informados pelo painel de navegação do trenó.\n",
    "\n",
    "O seu aplicativo deverá mostrar na tela a frase no idioma correto. Caso ela não esteja cadastrada, você deverá exibir a mensagem `--- NOT FOUND ---`.\n",
    "\n",
    "\n",
    "|  Exemplo de Entrada | Exemplo de Saída     |\n",
    "|:-------------------:|:--------------------:|\n",
    "| uri-online-judge    | --- NOT FOUND ---    |\n",
    "| alemanha      |  Frohliche Weihnachten!    |\n",
    "| brasil        |  Feliz Natal!              |\n",
    "| austria       |  Frohe Weihnacht!          |"
   ]
  },
  {
   "cell_type": "code",
   "execution_count": null,
   "metadata": {},
   "outputs": [],
   "source": []
  },
  {
   "cell_type": "markdown",
   "metadata": {},
   "source": [
    "### Compondo Jingles 🎶\n",
    "\n",
    "A. C. Marcos está dando os primeiros passos para ser um compositor de jingles. Ele está tendo alguns problemas, mas ao menos ele está criando melodias agradáveis e ritmos atrativos.\n",
    "\n",
    "Na música, uma nota tem um tom (sua frequência, resultando em quão grave ou agudo é o som) e uma duração (por quanto tempo a nota soa). Neste problema, estamos interessados apenas na duração das notas.\n",
    "\n",
    "Um jingle é dividido em uma sequência de compassos, e um compasso é formado de uma série de notas.\n",
    "\n",
    "A duração de uma nota é indicada pela sua forma. Neste problema, iremos utilizar letras maiúsculas para indicar a duração de uma nota. A seguinte tabela lista todas as notas disponíveis:\n",
    "\n",
    "<img src=\"https://resources.beecrowd.com.br/gallery/images/novos/Jingle%20Composing_PT.png\" style=\"display: block; margin: 1rem auto\" />\n",
    "\n",
    "A duração de um compasso é a soma da duração de suas notas. Nos jingles de Marcos, cada compasso tem a mesma duração. Como Marcos é apenas um iniciante, seu famoso professor Johann Sebastian III o ensinou que a duração de um compasso deve ser sempre 1.\n",
    "\n",
    "Por exemplo, Marcos escreveu uma composição contendo cinco compassos, dentre os quais quatro possuem a duração correta e um está errado. No exemplo abaixo, cada compasso é delimitado com barras e cada nota é representada como na tabela acima.\n",
    "\n",
    "<center>\n",
    "/HH/QQQQ/XXXTXTEQH/W/HW/\n",
    "</center>\n",
    "\n",
    "Marcos gosta de computadores assim como de música. Ele quer que você escreva um programa que determine, para cada uma de suas composições, quantos compassos possuem a duração correta e quais são os compassos com duração incorreta.\n",
    "\n",
    "|  Exemplo de Entrada | Exemplo de Saída     |\n",
    "|:-------------------:|:--------------------:|\n",
    "|/HH/QQQQ/XXXTXTEQH/W/HW/ |\tQtd. de Corretos: 4 |\n",
    "| | Incorretos: HW |\n",
    "| /W/W/SQHES/\t| Qtd. de Corretos: 3|\n",
    "| /WE/TEX/THES/\t| Qtd. de Corretos: 0|\n",
    "| | Incorretos: [WE, TEX, THES] |"
   ]
  },
  {
   "cell_type": "code",
   "execution_count": null,
   "metadata": {},
   "outputs": [],
   "source": []
  },
  {
   "cell_type": "markdown",
   "metadata": {},
   "source": [
    "### Amigo Secreto ⛄\n",
    "\n",
    "Na família Natalícia já é tradição a realização do amigo secreto (ou amigo oculto) na véspera de natal. Todos os anos a família inteira se reune para a troca de presentes. É um momento de muita diversão e descontração.\n",
    "\n",
    "Neste ano, a caçula Jocelina resolveu deixar o momento ainda mais divertido: ela propôs que todos os participantes colocassem em uma lista 3 sugestões para presentes. A partir dessa lista ela pensou em montar um programa que, colocado um nome **N** e um presente **P**, o programa retorna se a pessoa acertou ou não no presente para seu amigo secreto.\n",
    "\n",
    "Só que Joce não sabe muito de programação, e acabou precisando de ajuda para montar esse programa. Você, sendo tomado(a) pelo espírito natalino, aceitou o desafio!\n",
    "\n",
    "#### Entrada\n",
    "\n",
    "```\n",
    "5\n",
    "iara mochila estojo lapis\n",
    "adelar sapato camisa carteira\n",
    "jessica agenda bolsa brincos\n",
    "jocelina xicara meias perfume\n",
    "elaine sandalia sapatilha camiseta\n",
    "jessica carteira\n",
    "jessica agenda\n",
    "iara sandalia\n",
    "elaine mochila\n",
    "iara mochila\n",
    "adelar carteira\n",
    "```\n",
    "\n",
    "#### Saída\n",
    "```\n",
    "Tente Novamente!\n",
    "Uhul! Seu amigo secreto vai adorar o/\n",
    "Tente Novamente!\n",
    "Tente Novamente!\n",
    "Uhul! Seu amigo secreto vai adorar o/\n",
    "Uhul! Seu amigo secreto vai adorar o/\n",
    "```"
   ]
  },
  {
   "cell_type": "code",
   "execution_count": null,
   "metadata": {},
   "outputs": [],
   "source": []
  },
  {
   "cell_type": "code",
   "execution_count": null,
   "metadata": {},
   "outputs": [],
   "source": []
  }
 ],
 "metadata": {
  "language_info": {
   "name": "python"
  },
  "orig_nbformat": 4
 },
 "nbformat": 4,
 "nbformat_minor": 2
}
